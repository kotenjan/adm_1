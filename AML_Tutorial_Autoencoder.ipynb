{
 "cells": [
  {
   "cell_type": "markdown",
   "id": "43888764",
   "metadata": {},
   "source": [
    "# Tutorial - Recommender Systems\n",
    "\n",
    "The primary goal of this tutorial is to provide a comprehensive understanding of how sparse recommender systems are stored and how to effectively utilize sparse matrices. Additionally, the tutorial aims to guide learners through the process of implementing autoencodeer algorithms for recommenders."
   ]
  },
  {
   "cell_type": "markdown",
   "id": "1acab19b",
   "metadata": {},
   "source": [
    "Importing Libraries"
   ]
  },
  {
   "cell_type": "code",
   "execution_count": 1,
   "id": "d99e4090",
   "metadata": {},
   "outputs": [],
   "source": [
    "import numpy as np\n",
    "import matplotlib.pyplot as plt\n",
    "from scipy.sparse import csr_matrix\n",
    "from sklearn.model_selection import train_test_split\n",
    "from sklearn.neighbors import KNeighborsClassifier"
   ]
  },
  {
   "cell_type": "markdown",
   "id": "6b6b0ddf",
   "metadata": {},
   "source": [
    "Loading the dataset"
   ]
  },
  {
   "cell_type": "code",
   "execution_count": 2,
   "id": "4d6e3ed3",
   "metadata": {},
   "outputs": [
    {
     "data": {
      "text/plain": [
       "array([[   0,  456,    1],\n",
       "       [   0,  314,    1],\n",
       "       [   0,  234,    3],\n",
       "       ...,\n",
       "       [ 901, 1054,    3],\n",
       "       [ 901,  141,    3],\n",
       "       [ 901, 1423,    1]])"
      ]
     },
     "execution_count": 2,
     "metadata": {},
     "output_type": "execute_result"
    }
   ],
   "source": [
    "ratings = np.load(\"ROMEGA.npy\").astype(int)\n",
    "ratings"
   ]
  },
  {
   "cell_type": "markdown",
   "id": "dcb69880",
   "metadata": {},
   "source": [
    "Some statistics of the dataset"
   ]
  },
  {
   "cell_type": "code",
   "execution_count": 3,
   "id": "a5260ce2",
   "metadata": {},
   "outputs": [
    {
     "name": "stdout",
     "output_type": "stream",
     "text": [
      "Users ids: [0 1 2 3 4 5 6 7 8 9]\n",
      "Items ids: [0 1 2 3 4 5 6 7 8 9]\n",
      "# of users: 902\n",
      "# of items: 1500\n",
      "# of observed entries: 97499\n",
      "# of possible entries: 1353000\n",
      "% of observed entries: 0.07206134515890614\n"
     ]
    }
   ],
   "source": [
    "users = np.unique(ratings[:,0])\n",
    "print(f\"Users ids: {users[0:10]}\")\n",
    "items = np.unique(ratings[:,1])\n",
    "print(f\"Items ids: {users[0:10]}\")\n",
    "\n",
    "print(f\"# of users: {users.shape[0]}\")\n",
    "print(f\"# of items: {items.shape[0]}\")\n",
    "print(f\"# of observed entries: {ratings.shape[0]}\")\n",
    "print(f\"# of possible entries: {users.shape[0]*items.shape[0]}\")\n",
    "\n",
    "print(f\"% of observed entries: {ratings.shape[0]/(users.shape[0]*items.shape[0])}\")\n"
   ]
  },
  {
   "cell_type": "markdown",
   "id": "c09062d6",
   "metadata": {},
   "source": [
    "The focus of this dataset is on providing movie recommendations to users. Due to privacy concerns, user information is not disclosed. However, the dataset does include information on the first twenty movies that each user has interacted with. This information can be used to build recommender systems that recommends new movies to users based on their past movie preferences."
   ]
  },
  {
   "cell_type": "markdown",
   "id": "2084bfc9",
   "metadata": {},
   "source": [
    "\n",
    "\n",
    "| Movie Index | Title | IMDB |\n",
    "| --- | --- | --- |\n",
    "| 0 | Ace Ventura: Pet Detective    |[Link](https://www.imdb.com/title/tt0109040/?ref_=fn_al_tt_1) |\n",
    "| 1 | Back to the Future   |[Link](https://www.imdb.com/title/tt0088763/?ref_=nv_sr_srsg_0) |\n",
    "| 2 | Citizen Kane   |[Link](https://www.imdb.com/title/tt0033467/?ref_=nv_sr_srsg_0) |\n",
    "| 3 | Dirty Dancing     |[Link](https://www.imdb.com/title/tt0092890/?ref_=nv_sr_srsg_0) |\n",
    "| 4 | E.T. the Extra-Terrestrial   |[Link](https://www.imdb.com/title/tt0083866/?ref_=nv_sr_srsg_0) |\n",
    "| 5 | Forrest Gump     |[Link](https://www.imdb.com/title/tt0109830/?ref_=fn_al_tt_1) |\n",
    "| 6 | Free Willy     |[Link](https://www.imdb.com/title/tt0106965/?ref_=nv_sr_srsg_0) |\n",
    "| 7 | Ghost    |[Link](https://www.imdb.com/title/tt0099653/?ref_=nv_sr_srsg_3) |\n",
    "| 8 | GoldenEye     |[Link](https://www.imdb.com/title/tt0113189/?ref_=nv_sr_srsg_0) |\n",
    "| 9 | Home Alone    |[Link](https://www.imdb.com/title/tt0099785/?ref_=nv_sr_srsg_0) |\n",
    "| 10 | Independence Day (ID4)    |[Link](https://www.imdb.com/title/tt0116629/?ref_=nv_sr_srsg_2) |\n",
    "| 11 | Jurassic Park    |[Link](https://www.imdb.com/title/tt0107290/?ref_=nv_sr_srsg_0) |\n",
    "| 12 | Mortal Kombat   |[Link](https://www.imdb.com/title/tt0113855/?ref_=nv_sr_srsg_3) |\n",
    "| 13 | Pulp Fiction    |[Link](https://www.imdb.com/title/tt0110912/?ref_=nv_sr_srsg_0) |\n",
    "| 14 | Terminator 2: Judgment Day   |[Link](https://www.imdb.com/title/tt0103064/?ref_=nv_sr_srsg_0) |\n",
    "| 15 | The Godfather    |[Link](https://www.imdb.com/title/tt0068646/?ref_=nv_sr_srsg_0) |\n",
    "| 16 | The Lion King    |[Link](https://www.imdb.com/title/tt0110357/?ref_=nv_sr_srsg_3) |\n",
    "| 17 | The Mask    |[Link](https://www.imdb.com/title/tt0110475/?ref_=nv_sr_srsg_0) |\n",
    "| 18 | Toy Story     |[Link](https://www.imdb.com/title/tt0114709/?ref_=nv_sr_srsg_0) |\n",
    "| 19 | Willy Wonka and the Chocolate Factory    |[Link](https://www.imdb.com/title/tt0067992/?ref_=nv_sr_srsg_0) |\n",
    "\n"
   ]
  },
  {
   "cell_type": "markdown",
   "id": "087f6629",
   "metadata": {},
   "source": [
    "Store in a dense format"
   ]
  },
  {
   "cell_type": "code",
   "execution_count": 4,
   "id": "edaa0d94",
   "metadata": {},
   "outputs": [
    {
     "data": {
      "text/plain": [
       "array([[nan, nan, nan, ..., nan, nan, nan],\n",
       "       [nan, nan, nan, ..., nan, nan, nan],\n",
       "       [ 5.,  5., nan, ..., nan, nan, nan],\n",
       "       ...,\n",
       "       [nan, nan, nan, ..., nan, nan, nan],\n",
       "       [nan,  4., nan, ..., nan, nan, nan],\n",
       "       [nan, nan, nan, ..., nan, nan, nan]])"
      ]
     },
     "execution_count": 4,
     "metadata": {},
     "output_type": "execute_result"
    }
   ],
   "source": [
    "m=users.shape[0]\n",
    "n=items.shape[0]\n",
    "R_dense = np.repeat(np.nan,m*n).reshape(m,n)\n",
    "R_dense[ratings[:,0],ratings[:,1]] = ratings[:,2]\n",
    "R_dense"
   ]
  },
  {
   "cell_type": "markdown",
   "id": "2704d4de",
   "metadata": {},
   "source": [
    "Store in a sparse format"
   ]
  },
  {
   "cell_type": "code",
   "execution_count": 5,
   "id": "b1e96a12",
   "metadata": {},
   "outputs": [
    {
     "data": {
      "text/plain": [
       "<902x1500 sparse matrix of type '<class 'numpy.float64'>'\n",
       "\twith 97499 stored elements in Compressed Sparse Row format>"
      ]
     },
     "execution_count": 5,
     "metadata": {},
     "output_type": "execute_result"
    }
   ],
   "source": [
    "R_sparse = csr_matrix((ratings[:,2] * 1., (ratings[:,0], ratings[:,1])), shape=(m, n))\n",
    "R_sparse"
   ]
  },
  {
   "cell_type": "code",
   "execution_count": 6,
   "id": "3efc2795",
   "metadata": {},
   "outputs": [
    {
     "data": {
      "text/plain": [
       "array([[0., 0., 0., ..., 0., 0., 0.],\n",
       "       [0., 0., 0., ..., 0., 0., 0.],\n",
       "       [5., 5., 0., ..., 0., 0., 0.],\n",
       "       ...,\n",
       "       [0., 0., 0., ..., 0., 0., 0.],\n",
       "       [0., 4., 0., ..., 0., 0., 0.],\n",
       "       [0., 0., 0., ..., 0., 0., 0.]])"
      ]
     },
     "execution_count": 6,
     "metadata": {},
     "output_type": "execute_result"
    }
   ],
   "source": [
    "R_sparse.toarray()"
   ]
  },
  {
   "cell_type": "code",
   "execution_count": 7,
   "id": "3e1c64c7",
   "metadata": {},
   "outputs": [
    {
     "name": "stdout",
     "output_type": "stream",
     "text": [
      "Train : (92624, 3) Test: (4875, 3)\n"
     ]
    },
    {
     "data": {
      "text/plain": [
       "array([[161, 154,   3],\n",
       "       [ 16, 739,   3],\n",
       "       [ 28, 669,   3],\n",
       "       ...,\n",
       "       [407, 372,   4],\n",
       "       [  3, 849,   2],\n",
       "       [ 40, 433,   3]])"
      ]
     },
     "execution_count": 7,
     "metadata": {},
     "output_type": "execute_result"
    }
   ],
   "source": [
    "X_train, X_test, y_train, y_test = train_test_split(ratings[:,0:2], ratings[:,2], test_size=0.05, random_state=42)\n",
    "ratings_train = np.c_[X_train,y_train]\n",
    "ratings_test = np.c_[X_test,y_test]\n",
    "print(f\"Train : {ratings_train.shape} Test: {ratings_test.shape}\")\n",
    "ratings_train"
   ]
  },
  {
   "cell_type": "markdown",
   "id": "1033e19b",
   "metadata": {
    "collapsed": true,
    "jupyter": {
     "outputs_hidden": true
    }
   },
   "source": [
    "**Shallow Linear Autoencoder**\n",
    "\n",
    "In recent years, deep learning approaches have shown promising results in collaborative filtering tasks, such as recommendation systems. However, unlike in computer vision, it has been found that using a small number of hidden layers in recommendation systems achieves better accuracy. The Embarrassingly Shallow AutoEncoder (ESAE) is a linear model without hidden layers that uses a binary input vector to indicate user interactions with items and predicts the best items to recommend to the user by reproducing the input as its output, using an autoencoder approach. ESAE is computationally efficient and has been shown to perform well in recommendation tasks."
   ]
  },
  {
   "cell_type": "code",
   "execution_count": 8,
   "id": "65bc68da",
   "metadata": {},
   "outputs": [],
   "source": [
    "def EASE(X, lambda_): \n",
    "    G = X.T.dot(X).toarray()\n",
    "    diagIndices = np.diag_indices(G.shape[0])\n",
    "    G[diagIndices] += lambda_\n",
    "    P = np.linalg.inv(G)\n",
    "    B = P / (-np.diag(P))\n",
    "    B[diagIndices] = 0\n",
    "    return B"
   ]
  },
  {
   "cell_type": "code",
   "execution_count": 9,
   "id": "e9206e41",
   "metadata": {},
   "outputs": [
    {
     "name": "stdout",
     "output_type": "stream",
     "text": [
      "  (0, 3)\t1.0\n",
      "  (0, 69)\t1.0\n",
      "  (0, 100)\t1.0\n",
      "  (0, 171)\t1.0\n",
      "  (0, 187)\t1.0\n",
      "  (0, 234)\t1.0\n",
      "  (0, 260)\t1.0\n",
      "  (0, 314)\t1.0\n",
      "  (0, 376)\t1.0\n",
      "  (0, 456)\t1.0\n",
      "  (0, 463)\t1.0\n",
      "  (0, 582)\t1.0\n",
      "  (0, 621)\t1.0\n",
      "  (0, 676)\t1.0\n",
      "  (0, 762)\t1.0\n",
      "  (0, 811)\t1.0\n",
      "  (0, 1066)\t1.0\n",
      "  (0, 1300)\t1.0\n",
      "  (1, 28)\t1.0\n",
      "  (1, 56)\t1.0\n",
      "  (1, 153)\t1.0\n",
      "  (1, 236)\t1.0\n",
      "  (1, 262)\t1.0\n",
      "  (1, 267)\t1.0\n",
      "  (1, 312)\t1.0\n",
      "  :\t:\n",
      "  (900, 694)\t1.0\n",
      "  (900, 848)\t1.0\n",
      "  (900, 944)\t1.0\n",
      "  (900, 1015)\t1.0\n",
      "  (900, 1215)\t1.0\n",
      "  (901, 15)\t1.0\n",
      "  (901, 49)\t1.0\n",
      "  (901, 63)\t1.0\n",
      "  (901, 86)\t1.0\n",
      "  (901, 87)\t1.0\n",
      "  (901, 141)\t1.0\n",
      "  (901, 173)\t1.0\n",
      "  (901, 206)\t1.0\n",
      "  (901, 266)\t1.0\n",
      "  (901, 290)\t1.0\n",
      "  (901, 340)\t1.0\n",
      "  (901, 373)\t1.0\n",
      "  (901, 415)\t1.0\n",
      "  (901, 492)\t1.0\n",
      "  (901, 558)\t1.0\n",
      "  (901, 602)\t1.0\n",
      "  (901, 901)\t1.0\n",
      "  (901, 944)\t1.0\n",
      "  (901, 1054)\t1.0\n",
      "  (901, 1120)\t1.0\n"
     ]
    }
   ],
   "source": [
    "X_sparse = csr_matrix((np.repeat(1.,ratings_train.shape[0]), (ratings_train[:,0], ratings_train[:,1])), shape=(m, n))\n",
    "X_sparse\n",
    "print(X_sparse)"
   ]
  },
  {
   "cell_type": "code",
   "execution_count": 10,
   "id": "a2ec4738",
   "metadata": {},
   "outputs": [
    {
     "data": {
      "text/plain": [
       "array([[-8.41364972e-04,  7.51077942e-03,  8.29558994e-02, ...,\n",
       "        -7.35415684e-03,  2.77143236e-02, -1.68381777e-02],\n",
       "       [-2.19771278e-02,  9.91313896e-02, -3.66229626e-02, ...,\n",
       "        -1.14436439e-03, -5.88337931e-02, -8.25180271e-03],\n",
       "       [ 9.95426483e-01,  9.81666118e-01,  3.53743301e-02, ...,\n",
       "         8.51025079e-03, -1.08077184e-02,  2.43513051e-03],\n",
       "       ...,\n",
       "       [-7.13919663e-02,  9.63373858e-02,  3.43846659e-02, ...,\n",
       "         8.19262255e-03, -1.22549777e-02, -1.11425388e-02],\n",
       "       [-9.94964934e-03,  5.20826742e-01,  1.04794523e-02, ...,\n",
       "         8.86594413e-03, -5.13809290e-03,  1.74329556e-02],\n",
       "       [ 5.05960263e-02,  2.18667863e-02, -7.49992430e-02, ...,\n",
       "         5.50144607e-03,  1.87413147e-02,  1.34474618e-02]])"
      ]
     },
     "execution_count": 10,
     "metadata": {},
     "output_type": "execute_result"
    }
   ],
   "source": [
    "B=EASE(X = X_sparse, lambda_ = 10)\n",
    "X_sparse @ B"
   ]
  },
  {
   "cell_type": "code",
   "execution_count": 11,
   "id": "0dee6260",
   "metadata": {},
   "outputs": [
    {
     "name": "stdout",
     "output_type": "stream",
     "text": [
      "Scores of EASE: [ 0.93641534  0.90043209  0.11073922 ...  0.00391504  0.01472662\n",
      " -0.00295597]\n"
     ]
    }
   ],
   "source": [
    "u23 = (X_sparse[23,:] @ B)[0]\n",
    "print(f\"Scores of EASE: {u23}\")"
   ]
  },
  {
   "cell_type": "code",
   "execution_count": 12,
   "id": "ff47e0f8",
   "metadata": {},
   "outputs": [
    {
     "name": "stdout",
     "output_type": "stream",
     "text": [
      "Sequence of scores: [500  14 629 ... 420 602 126]\n"
     ]
    }
   ],
   "source": [
    "sequenceScores = np.argsort(-u23)\n",
    "print(f\"Sequence of scores: {sequenceScores}\")"
   ]
  },
  {
   "cell_type": "code",
   "execution_count": 13,
   "id": "3379db45",
   "metadata": {},
   "outputs": [
    {
     "name": "stdout",
     "output_type": "stream",
     "text": [
      "Items observed by user 23: [  98  654 1302  599  391  923  994  171  750  536 1421  232  199   76\n",
      "  891  764  162  427  676  862 1142   49  924  763  916  555  708   13\n",
      "   20  333  165   34 1261 1057  494   51   55 1005  302  270   27  129\n",
      "  135  106  211  624 1473  216  262    5   28 1125  690  730   32  293\n",
      "  752  356  629 1158  323   97  269  408  942  432 1033   89  596  198\n",
      "  134  224  104  309   72  399   41  844  359  479   62 1166  308  486\n",
      "  620  820  363  768  552  861  829  227  326  501  762   17  720  243\n",
      "   75    0  505 1019   74   19  778  883  210  435  166  583  600  651\n",
      "  694  606  272 1215  118 1100  254  196  687  156  639  203  758  618\n",
      "  679  757  406  396  565 1000 1476  926  520  813  518 1072 1366 1225\n",
      "  340  279  745  569   16  653   85  370   35  123  491 1432  959   87\n",
      "  245  468  464  500  848 1034  636 1415  407 1074  925  252  540  110\n",
      "  740  831 1167   11 1373 1263  218 1414  241  715  383  814   68   70\n",
      "  314  847  904  695  467  849  534  968  756  812  286  793  327   39\n",
      "  857    1   58  282  469  101  346  329  312  477  825 1088  456   10\n",
      "   42  352 1041 1154  630  997  315  850  137 1085  717  164  353  263\n",
      " 1133  255  484  374  584  581 1011  231  681   57 1003 1311  725   78\n",
      "  659  439  317   52  292   96  256  669  582  749  132  724   64   22\n",
      "   31  577  251 1112  963  876 1121 1354  450 1152  504  487 1314  982\n",
      "  319  247  929  900   56   15  112  160  180    4  890  375  208  521\n",
      "    7  372  259  547  672  526  365  463  843  551  832  148 1298  331\n",
      "  790  612    8   14  228 1075   84  514   12   38 1047  436  119  236\n",
      "  550  267  601  304  616  146  613  217  578  863  811  870  704   79\n",
      "  714  172  908  502  816 1351  219  877  465  105  108 1051  204  954\n",
      "  962   18 1109   69  307   33  824 1335    3  294   77  603  941]\n",
      "Sequence of recommendation: [696 533 667 ... 420 602 126]\n",
      "1500 1151 349\n"
     ]
    }
   ],
   "source": [
    "itemsObs23 = ratings_train[ratings_train[:,0]==23,1]\n",
    "print(f\"Items observed by user 23: {itemsObs23}\")\n",
    "\n",
    "sequenceRecommendation = sequenceScores[~np.isin(sequenceScores,itemsObs23)]\n",
    "print(f\"Sequence of recommendation: {sequenceRecommendation}\")\n",
    "\n",
    "print(f\"{sequenceScores.shape[0]} {sequenceRecommendation.shape[0]} {itemsObs23.shape[0]}\")"
   ]
  },
  {
   "cell_type": "code",
   "execution_count": 14,
   "id": "a5448814",
   "metadata": {},
   "outputs": [
    {
     "data": {
      "text/plain": [
       "0.299093658523206"
      ]
     },
     "execution_count": 14,
     "metadata": {},
     "output_type": "execute_result"
    }
   ],
   "source": [
    "def ndcg(scores, true_relevance):\n",
    "    IDCG = (1/np.log2(np.arange(1,true_relevance.sum()+1)+1)).sum()\n",
    "    relevant = np.zeros(scores.shape[0])\n",
    "    relevant[np.argsort(-scores)] = np.arange(1,scores.shape[0]+1) * true_relevance[np.argsort(-scores)]\n",
    "    DCG = (1/np.log2(relevant[relevant!=0]+1)).sum()\n",
    "    return DCG / IDCG\n",
    "\n",
    "\n",
    "u23_test = ratings_test[ratings_test[:,0]==23,1]\n",
    "\n",
    "true_relevance = np.zeros(u23.shape[0])\n",
    "true_relevance[u23_test] = 1.\n",
    "\n",
    "ndcg(u23[~np.isin(sequenceScores,itemsObs23)],true_relevance[~np.isin(sequenceScores,itemsObs23)])\n",
    "\n"
   ]
  },
  {
   "cell_type": "code",
   "execution_count": 15,
   "id": "6e80a7f6",
   "metadata": {},
   "outputs": [
    {
     "data": {
      "text/plain": [
       "0.2990936585232065"
      ]
     },
     "execution_count": 15,
     "metadata": {},
     "output_type": "execute_result"
    }
   ],
   "source": [
    "from sklearn.metrics import ndcg_score\n",
    "true_relevance = true_relevance[~np.isin(sequenceScores,itemsObs23)]\n",
    "true_relevance = true_relevance.reshape(1,true_relevance.shape[0])\n",
    "scores = u23[~np.isin(sequenceScores,itemsObs23)]\n",
    "scores = scores.reshape(1,scores.shape[0])\n",
    "ndcg_score(true_relevance, scores)"
   ]
  },
  {
   "cell_type": "markdown",
   "id": "0dcedb85",
   "metadata": {},
   "source": [
    "# Homework\n",
    "\n",
    "The homework can be done by groups up to three students. Your task is to design, train and cross-validation a deep autoencoder to achieve the best performance (highest NDCG). Here's what you need to do:\n",
    "\n",
    "* Chose 3 to 5 of the movies that you have watched (or you think you would watch it) from the table given above and add this information to the end of the data set. For example, if you watched _Home Alone_, add the entry np.array([902,9,1]) to the data set.\n",
    "\n",
    "* **Data Preparation:** Split the dataset into training, validation, and test sets. Preprocess the data, such as scaling or normalization, to make it suitable for the model.\n",
    "\n",
    "* **Architecture Selection:** Choose an appropriate architecture for the deep autoencoder. Experiment with different architectures and hyperparameters to find the best model.\n",
    "\n",
    "* **Model Training:** Train the deep autoencoder using an appropriate optimization algorithm, such as stochastic gradient descent. Monitor the training process using appropriate metrics such as loss and accuracy. Use early stopping and regularization techniques to prevent overfitting.\n",
    "\n",
    "* **Validation**: Validate the model to find hyperparamters. Note that our aim is to have high NDCG.\n",
    "\n",
    "* Performance Evaluation: Evaluate the performance of the deep autoencoder on the test set using an appropriate evaluation metric such as NDCG. The group with the highest NDCG score wins the contest.\n"
   ]
  },
  {
   "cell_type": "code",
   "execution_count": 16,
   "id": "a77e2812",
   "metadata": {},
   "outputs": [],
   "source": [
    "#your code here"
   ]
  }
 ],
 "metadata": {
  "kernelspec": {
   "display_name": "Python 3 (ipykernel)",
   "language": "python",
   "name": "python3"
  },
  "language_info": {
   "codemirror_mode": {
    "name": "ipython",
    "version": 3
   },
   "file_extension": ".py",
   "mimetype": "text/x-python",
   "name": "python",
   "nbconvert_exporter": "python",
   "pygments_lexer": "ipython3",
   "version": "3.11.7"
  }
 },
 "nbformat": 4,
 "nbformat_minor": 5
}
